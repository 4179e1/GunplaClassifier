{
 "cells": [
  {
   "cell_type": "markdown",
   "id": "6ffa3305",
   "metadata": {},
   "source": [
    "# Create Gunpla Classifier App"
   ]
  },
  {
   "cell_type": "markdown",
   "id": "5e4349f7",
   "metadata": {},
   "source": [
    "## Create Dataloader"
   ]
  },
  {
   "cell_type": "code",
   "execution_count": 1,
   "id": "4988a953",
   "metadata": {},
   "outputs": [
    {
     "name": "stderr",
     "output_type": "stream",
     "text": [
      "/opt/conda/lib/python3.8/site-packages/tqdm/auto.py:22: TqdmWarning: IProgress not found. Please update jupyter and ipywidgets. See https://ipywidgets.readthedocs.io/en/stable/user_install.html\n",
      "  from .autonotebook import tqdm as notebook_tqdm\n"
     ]
    }
   ],
   "source": [
    "import dataset\n",
    "from torchvision import transforms\n",
    "\n",
    "# Create training transform with TrivialAugment\n",
    "train_transform = transforms.Compose([\n",
    "    dataset.SquarePad(fill=255),\n",
    "    transforms.Resize((224,224)),\n",
    "    transforms.TrivialAugmentWide(num_magnitude_bins=31),\n",
    "    transforms.ToTensor(),\n",
    "    transforms.Normalize(mean=[0.485, 0.456, 0.406], std=[0.229, 0.224, 0.225]),\n",
    "])\n",
    "\n",
    "test_validate_transform = transforms.Compose([\n",
    "    dataset.SquarePad(fill=255),\n",
    "    transforms.Resize((224,224)),\n",
    "    #transforms.TrivialAugmentWide(num_magnitude_bins=31),\n",
    "    transforms.ToTensor(),\n",
    "    transforms.Normalize(mean=[0.485, 0.456, 0.406], std=[0.229, 0.224, 0.225]),\n",
    "])\n",
    "\n",
    "\n",
    "train_dataloader, test_dataloader, validate_dataloader, names = dataset.create_dataloaders(\n",
    "        train_transform=train_transform,\n",
    "        test_transform=test_validate_transform,\n",
    "        validate_transform=test_validate_transform,\n",
    "    )"
   ]
  },
  {
   "cell_type": "code",
   "execution_count": 2,
   "id": "3ca89795",
   "metadata": {},
   "outputs": [
    {
     "name": "stdout",
     "output_type": "stream",
     "text": [
      "['RG01 RX-78-2 Gundam', \"RG02 MS-06S Char's Zaku II\", 'RG03 GAT-X-105 Aile Strike Gundam', 'RG04 MS-06F Zaku II', 'RG05 ZGMF-X10A Freedom Gundam', 'RG06 FX-550 Sky Grasper', 'RG07 RX-178 Gundam Mk-II Titans', 'RG08 RX-178 Gundam Mk-II A.E.U.G.', 'RG09 ZGMF-X09A Justice Gundam', 'RG10 MSZ-006 Zeta Gundam', 'RG11 ZGMF-X42S Destiny Gundam', 'RG12 RX-78GP01 Zephyranthes', 'RG13 RX-78GP01fb Full Burnern', 'RG14 ZGMF-X20A Strike Freedom Gundam', 'RG15 GN-001 Gundam Exia', \"RG16 MSM-07S Char's Z'gok\", 'RG17 XXXG-00W0 Wing Gundam Zero EW', 'RG18 GN-0000-GNR-010 OO Raiser', 'RG19 MBF-P02 Gundam Astray Red Frame', 'RG20 XXXG-01W Wing Gundam EW', 'RG21 GNT-0000 OO Qan[T]', 'RG22 MSN-06S Sinanju', 'RG23 Build Strike Gundam Full Package', 'RG24 Gundam Astray Gold Frame Amatsu Mina', 'RG25 RX-0 Unicorn Gundam', \"RG26 MS-06R-2 Johnny Ridden's Zaku II\", 'RG27 RX-0[N] Unicorn Gundam 02 Banshee Norn', 'RG28 OZ-00MS Tallgeese EW', 'RG29 MSN-04 Sazabi', 'RG30 RX-0 Full Armor Unicorn Gundam', 'RG31 XM-X1 Crossbone Gundam X1', 'RG32 RX-93 Nu Gundam', 'RG33 ZGMF-X56S_α Force Impulse Gundam', 'RG34 MSN-02 Zeong', 'RG35 XXXG-01W Wing Gundam', 'RG36 RX-93-υ2 Hi-Nu Gundam', 'RG37 GF13-017NJII God Gundam']\n"
     ]
    }
   ],
   "source": [
    "print(names)"
   ]
  },
  {
   "cell_type": "markdown",
   "id": "c08382eb",
   "metadata": {},
   "source": [
    "## Create ViT model\n"
   ]
  },
  {
   "cell_type": "code",
   "execution_count": 3,
   "id": "96e4f64e",
   "metadata": {},
   "outputs": [],
   "source": [
    "import torch\n",
    "import torchvision\n",
    "import dataset\n",
    "\n",
    "from torch import nn\n",
    "from torchvision import transforms\n",
    "\n",
    "def create_vit_model(model_path: str,\n",
    "                     num_classes:int=3, \n",
    "                     seed:int=42):\n",
    "    model = torchvision.models.vit_b_16()\n",
    "    model.heads = nn.Linear(in_features=768, out_features=num_classes) \n",
    "\n",
    "    model.load_state_dict(torch.load(f=model_path))\n",
    "    \n",
    "    transform = transforms.Compose([\n",
    "        dataset.SquarePad(fill=255),\n",
    "        transforms.Resize((224,224)),\n",
    "        transforms.ToTensor(),\n",
    "        transforms.Normalize(mean=[0.485, 0.456, 0.406], std=[0.229, 0.224, 0.225]),\n",
    "    ])\n",
    "\n",
    "    \n",
    "    return model, transform"
   ]
  },
  {
   "cell_type": "code",
   "execution_count": 4,
   "id": "7cf7a5f4",
   "metadata": {},
   "outputs": [],
   "source": [
    "vit, transform = create_vit_model(\"./models/pretrained_vit2.pt\", len(names))\n",
    "device = \"cuda\" if torch.cuda.is_available() else \"cpu\"\n",
    "_=vit.to(device)"
   ]
  },
  {
   "cell_type": "markdown",
   "id": "228fa2ce",
   "metadata": {},
   "source": [
    "## predict"
   ]
  },
  {
   "cell_type": "code",
   "execution_count": 5,
   "id": "692defd0",
   "metadata": {},
   "outputs": [],
   "source": [
    "from timeit import default_timer as timer \n",
    "from typing import Tuple, Dict\n",
    "\n",
    "def predict(model, transform, names, device) -> Tuple[Dict, float]:\n",
    "    def inner_func(img):\n",
    "    \t\"\"\"Transforms and performs a prediction on img and returns prediction and time taken.\n",
    "    \t\"\"\"\n",
    "    \t# Start the timer\n",
    "    \tstart_time = timer()\n",
    "    \t\n",
    "    \t# Transform the target image and add a batch dimension\n",
    "    \timg = transform(img).unsqueeze(0).to(device)\n",
    "    \t\n",
    "    \t# Put model into evaluation mode and turn on inference mode\n",
    "    \tmodel.eval()\n",
    "    \twith torch.inference_mode():\n",
    "    \t    # Pass the transformed image through the model and turn the prediction logits into prediction probabilities\n",
    "    \t    pred_probs = torch.softmax(model(img), dim=1)\n",
    "    \t\n",
    "    \t# Create a prediction label and prediction probability dictionary for each prediction class (this is the required format for Gradio's output parameter)\n",
    "    \tpred_labels_and_probs = {names[i]: float(pred_probs[0][i]) for i in range(len(names))}\n",
    "    \t\n",
    "    \t# Calculate the prediction time\n",
    "    \tpred_time = round(timer() - start_time, 5)\n",
    "    \t\n",
    "    \t# Return the prediction dictionary and prediction time \n",
    "    \treturn pred_labels_and_probs, pred_time\n",
    "\n",
    "    return inner_func"
   ]
  },
  {
   "cell_type": "code",
   "execution_count": 6,
   "id": "7a312090",
   "metadata": {},
   "outputs": [
    {
     "name": "stdout",
     "output_type": "stream",
     "text": [
      "Prediction label and probability dictionary: \n",
      "{'RG01 RX-78-2 Gundam': 0.03296208009123802, \"RG02 MS-06S Char's Zaku II\": 0.00015252716548275203, 'RG03 GAT-X-105 Aile Strike Gundam': 0.03440404683351517, 'RG04 MS-06F Zaku II': 0.00029010840808041394, 'RG05 ZGMF-X10A Freedom Gundam': 0.0002843623806256801, 'RG06 FX-550 Sky Grasper': 0.00213455967605114, 'RG07 RX-178 Gundam Mk-II Titans': 0.00015522667672485113, 'RG08 RX-178 Gundam Mk-II A.E.U.G.': 0.006870567332953215, 'RG09 ZGMF-X09A Justice Gundam': 0.00010574361658655107, 'RG10 MSZ-006 Zeta Gundam': 0.0002595948171801865, 'RG11 ZGMF-X42S Destiny Gundam': 0.00013282686995808035, 'RG12 RX-78GP01 Zephyranthes': 0.8586981296539307, 'RG13 RX-78GP01fb Full Burnern': 0.053710177540779114, 'RG14 ZGMF-X20A Strike Freedom Gundam': 1.4190071624398115e-06, 'RG15 GN-001 Gundam Exia': 0.004067098721861839, \"RG16 MSM-07S Char's Z'gok\": 1.914706444949843e-05, 'RG17 XXXG-00W0 Wing Gundam Zero EW': 0.0001819964381866157, 'RG18 GN-0000-GNR-010 OO Raiser': 4.159716991125606e-05, 'RG19 MBF-P02 Gundam Astray Red Frame': 0.000236815947573632, 'RG20 XXXG-01W Wing Gundam EW': 0.0002109865308739245, 'RG21 GNT-0000 OO Qan[T]': 0.00015002103464212269, 'RG22 MSN-06S Sinanju': 2.800616357490071e-06, 'RG23 Build Strike Gundam Full Package': 0.0007859607576392591, 'RG24 Gundam Astray Gold Frame Amatsu Mina': 2.8507270144473296e-06, 'RG25 RX-0 Unicorn Gundam': 0.0013163519324734807, \"RG26 MS-06R-2 Johnny Ridden's Zaku II\": 1.993026671698317e-06, 'RG27 RX-0[N] Unicorn Gundam 02 Banshee Norn': 6.946517601136293e-07, 'RG28 OZ-00MS Tallgeese EW': 0.0003908499493263662, 'RG29 MSN-04 Sazabi': 3.9091287362680305e-06, 'RG30 RX-0 Full Armor Unicorn Gundam': 0.0009533680859021842, 'RG31 XM-X1 Crossbone Gundam X1': 0.0004310452495701611, 'RG32 RX-93 Nu Gundam': 0.00023856428742874414, 'RG33 ZGMF-X56S_α Force Impulse Gundam': 0.0006708064465783536, 'RG34 MSN-02 Zeong': 1.3287343790580053e-05, 'RG35 XXXG-01W Wing Gundam': 9.705653064884245e-05, 'RG36 RX-93-υ2 Hi-Nu Gundam': 1.6625361240585335e-05, 'RG37 GF13-017NJII God Gundam': 4.82570339954691e-06}\n",
      "Prediction time: 2.07505 seconds\n",
      "Prediction label and probability dictionary: \n",
      "{'RG01 RX-78-2 Gundam': 0.0005857304204255342, \"RG02 MS-06S Char's Zaku II\": 0.00031831400701776147, 'RG03 GAT-X-105 Aile Strike Gundam': 0.0005005471757613122, 'RG04 MS-06F Zaku II': 0.00019310764037072659, 'RG05 ZGMF-X10A Freedom Gundam': 0.00113878701813519, 'RG06 FX-550 Sky Grasper': 0.0005876689101569355, 'RG07 RX-178 Gundam Mk-II Titans': 0.0042019314132630825, 'RG08 RX-178 Gundam Mk-II A.E.U.G.': 6.499515438918024e-05, 'RG09 ZGMF-X09A Justice Gundam': 0.0044296905398368835, 'RG10 MSZ-006 Zeta Gundam': 0.00086401920998469, 'RG11 ZGMF-X42S Destiny Gundam': 0.014437681064009666, 'RG12 RX-78GP01 Zephyranthes': 0.0004945757682435215, 'RG13 RX-78GP01fb Full Burnern': 4.891805292572826e-05, 'RG14 ZGMF-X20A Strike Freedom Gundam': 0.9433159828186035, 'RG15 GN-001 Gundam Exia': 0.00047272362280637026, \"RG16 MSM-07S Char's Z'gok\": 0.0005822163075208664, 'RG17 XXXG-00W0 Wing Gundam Zero EW': 0.0006211515283212066, 'RG18 GN-0000-GNR-010 OO Raiser': 0.0002848700387403369, 'RG19 MBF-P02 Gundam Astray Red Frame': 0.0002369196736253798, 'RG20 XXXG-01W Wing Gundam EW': 0.0008319868356920779, 'RG21 GNT-0000 OO Qan[T]': 0.00019997134222649038, 'RG22 MSN-06S Sinanju': 0.0036220753099769354, 'RG23 Build Strike Gundam Full Package': 0.0007186693837866187, 'RG24 Gundam Astray Gold Frame Amatsu Mina': 0.0002732755383476615, 'RG25 RX-0 Unicorn Gundam': 6.261665021156659e-06, \"RG26 MS-06R-2 Johnny Ridden's Zaku II\": 4.979577170161065e-06, 'RG27 RX-0[N] Unicorn Gundam 02 Banshee Norn': 0.0038277434650808573, 'RG28 OZ-00MS Tallgeese EW': 0.000302126572933048, 'RG29 MSN-04 Sazabi': 0.004468279425054789, 'RG30 RX-0 Full Armor Unicorn Gundam': 8.359655112144537e-06, 'RG31 XM-X1 Crossbone Gundam X1': 0.00013762389426119626, 'RG32 RX-93 Nu Gundam': 0.0004077730991411954, 'RG33 ZGMF-X56S_α Force Impulse Gundam': 0.0007582680555060506, 'RG34 MSN-02 Zeong': 2.4621713237138465e-05, 'RG35 XXXG-01W Wing Gundam': 0.0006482653552666306, 'RG36 RX-93-υ2 Hi-Nu Gundam': 0.01032128557562828, 'RG37 GF13-017NJII God Gundam': 5.8656663895817474e-05}\n",
      "Prediction time: 0.0213 seconds\n",
      "Prediction label and probability dictionary: \n",
      "{'RG01 RX-78-2 Gundam': 0.012817430309951305, \"RG02 MS-06S Char's Zaku II\": 0.0001386822696076706, 'RG03 GAT-X-105 Aile Strike Gundam': 0.019212761893868446, 'RG04 MS-06F Zaku II': 1.7461859897593968e-05, 'RG05 ZGMF-X10A Freedom Gundam': 0.00258390954695642, 'RG06 FX-550 Sky Grasper': 0.0006930167437531054, 'RG07 RX-178 Gundam Mk-II Titans': 0.0005432725884020329, 'RG08 RX-178 Gundam Mk-II A.E.U.G.': 0.0012299423106014729, 'RG09 ZGMF-X09A Justice Gundam': 0.005811418406665325, 'RG10 MSZ-006 Zeta Gundam': 0.0023526439908891916, 'RG11 ZGMF-X42S Destiny Gundam': 0.003090123413130641, 'RG12 RX-78GP01 Zephyranthes': 0.7565134167671204, 'RG13 RX-78GP01fb Full Burnern': 0.17913775146007538, 'RG14 ZGMF-X20A Strike Freedom Gundam': 0.0008558878907933831, 'RG15 GN-001 Gundam Exia': 0.005929232574999332, \"RG16 MSM-07S Char's Z'gok\": 6.682926709800086e-07, 'RG17 XXXG-00W0 Wing Gundam Zero EW': 0.0005346326506696641, 'RG18 GN-0000-GNR-010 OO Raiser': 3.405794268473983e-05, 'RG19 MBF-P02 Gundam Astray Red Frame': 5.57155508431606e-05, 'RG20 XXXG-01W Wing Gundam EW': 0.0001045224562403746, 'RG21 GNT-0000 OO Qan[T]': 1.3743707313551567e-05, 'RG22 MSN-06S Sinanju': 8.299435648950748e-06, 'RG23 Build Strike Gundam Full Package': 7.617460505571216e-05, 'RG24 Gundam Astray Gold Frame Amatsu Mina': 1.6752022929722443e-05, 'RG25 RX-0 Unicorn Gundam': 0.001501436228863895, \"RG26 MS-06R-2 Johnny Ridden's Zaku II\": 6.490368105005473e-05, 'RG27 RX-0[N] Unicorn Gundam 02 Banshee Norn': 1.1908772648894228e-05, 'RG28 OZ-00MS Tallgeese EW': 4.492206426220946e-05, 'RG29 MSN-04 Sazabi': 5.611278083961224e-06, 'RG30 RX-0 Full Armor Unicorn Gundam': 2.0065410808456363e-06, 'RG31 XM-X1 Crossbone Gundam X1': 0.0003732084878720343, 'RG32 RX-93 Nu Gundam': 0.005219628103077412, 'RG33 ZGMF-X56S_α Force Impulse Gundam': 0.0004658343968912959, 'RG34 MSN-02 Zeong': 2.6586727472022176e-05, 'RG35 XXXG-01W Wing Gundam': 0.00010390151146566495, 'RG36 RX-93-υ2 Hi-Nu Gundam': 0.00017257180297747254, 'RG37 GF13-017NJII God Gundam': 0.00023602308647241443}\n",
      "Prediction time: 0.02449 seconds\n"
     ]
    }
   ],
   "source": [
    "import data_utils\n",
    "from PIL import Image\n",
    "\n",
    "imgs=data_utils.get_random_images('./data/gunpla', k=3)\n",
    "\n",
    "vit_predict = predict(vit, test_validate_transform, names, device)\n",
    "\n",
    "for p in imgs:\n",
    "    img = Image.open(p)\n",
    "    pred_dict, pred_time = vit_predict(img)\n",
    "    print(f\"Prediction label and probability dictionary: \\n{pred_dict}\")\n",
    "    print(f\"Prediction time: {pred_time} seconds\")"
   ]
  },
  {
   "cell_type": "markdown",
   "id": "006fbb2a",
   "metadata": {},
   "source": [
    "## Gradio"
   ]
  },
  {
   "cell_type": "code",
   "execution_count": 7,
   "id": "71503675",
   "metadata": {},
   "outputs": [
    {
     "name": "stdout",
     "output_type": "stream",
     "text": [
      "\u001b[33mWARNING: Running pip as the 'root' user can result in broken permissions and conflicting behaviour with the system package manager. It is recommended to use a virtual environment instead: https://pip.pypa.io/warnings/venv\u001b[0m\n",
      "Gradio version: 3.16.2\n"
     ]
    }
   ],
   "source": [
    "# Import/install Gradio \n",
    "try:\n",
    "    import gradio as gr\n",
    "except: \n",
    "    !pip -q install gradio\n",
    "    import gradio as gr\n",
    "    \n",
    "print(f\"Gradio version: {gr.__version__}\")"
   ]
  },
  {
   "cell_type": "code",
   "execution_count": 8,
   "id": "57d21d18",
   "metadata": {},
   "outputs": [
    {
     "data": {
      "text/plain": [
       "[['./data/playground/rg01_02.jpg'],\n",
       " ['./data/playground/rg02_02.jpg'],\n",
       " ['./data/playground/rg04_02.jpg'],\n",
       " ['./data/playground/rg03_02.jpg']]"
      ]
     },
     "execution_count": 8,
     "metadata": {},
     "output_type": "execute_result"
    }
   ],
   "source": [
    "import os\n",
    "\n",
    "# Get example filepaths in a list of lists\n",
    "example_list = [[\"./data/playground/\" + example] for example in os.listdir(\"./data/playground/\")]\n",
    "example_list"
   ]
  },
  {
   "cell_type": "code",
   "execution_count": 9,
   "id": "77673d7e",
   "metadata": {},
   "outputs": [],
   "source": [
    "import gradio as gr\n",
    "\n",
    "# Create title, description and article strings\n",
    "title = \"Gunpla classifier\"\n",
    "description = \"Which gunpla is this?\"\n",
    "article = \"Created at [09. PyTorch Model Deployment](https://www.learnpytorch.io/09_pytorch_model_deployment/).\"\n",
    "\n",
    "# Create the Gradio demo\n",
    "demo = gr.Interface(fn=vit_predict, # mapping function from input to output\n",
    "                    inputs=gr.Image(type=\"pil\"), # what are the inputs?\n",
    "                    outputs=[gr.Label(num_top_classes=len(names), label=\"Predictions\"), # what are the outputs?\n",
    "                             gr.Number(label=\"Prediction time (s)\")], # our fn has two outputs, therefore we have two outputs\n",
    "                    examples=example_list, \n",
    "                    title=title,\n",
    "                    description=description,\n",
    "                    article=article)\n",
    "\n",
    "# Launch the demo!\n",
    "#demo.launch(debug=True, share=True)"
   ]
  },
  {
   "cell_type": "markdown",
   "id": "ae32b206",
   "metadata": {},
   "source": [
    "## Model.py"
   ]
  },
  {
   "cell_type": "code",
   "execution_count": 10,
   "id": "e10063e5",
   "metadata": {},
   "outputs": [
    {
     "name": "stdout",
     "output_type": "stream",
     "text": [
      "Overwriting model.py\n"
     ]
    }
   ],
   "source": [
    "%%writefile model.py\n",
    "\n",
    "import torch\n",
    "import torchvision\n",
    "import dataset\n",
    "\n",
    "from torch import nn\n",
    "from torchvision import transforms\n",
    "\n",
    "def create_vit_model(model_path: str,\n",
    "                     device: str,\n",
    "                     num_classes:int=3\n",
    "                    ):\n",
    "    model = torchvision.models.vit_b_16()\n",
    "    model.heads = nn.Linear(in_features=768, out_features=num_classes) \n",
    "\n",
    "    model.load_state_dict(torch.load(f=model_path, map_location=device))\n",
    "    \n",
    "    transform = transforms.Compose([\n",
    "        dataset.SquarePad(fill=255),\n",
    "        transforms.Resize((224,224)),\n",
    "        transforms.ToTensor(),\n",
    "        transforms.Normalize(mean=[0.485, 0.456, 0.406], std=[0.229, 0.224, 0.225]),\n",
    "    ])\n",
    "\n",
    "    \n",
    "    return model, transform\n",
    "\n",
    "\n",
    "def create_efficientnet_model(model_path: str,\n",
    "                     device: str,\n",
    "                     num_classes:int=3\n",
    "                    ):\n",
    "    model = torchvision.models.efficientnet_b2()\n",
    "    model.classifier = torch.nn.Sequential(\n",
    "        torch.nn.Dropout(p=0.2, inplace=True), \n",
    "        torch.nn.Linear(in_features=1408,         # note: this is different from b0\n",
    "                    out_features=num_classes, # same number of output units as our number of classes\n",
    "                    bias=True))\n",
    "\n",
    "    model.load_state_dict(torch.load(f=model_path, map_location=device))\n",
    "    \n",
    "    transform = transforms.Compose([\n",
    "        dataset.SquarePad(fill=255),\n",
    "        transforms.Resize((224,224)),\n",
    "        transforms.ToTensor(),\n",
    "        transforms.Normalize(mean=[0.485, 0.456, 0.406], std=[0.229, 0.224, 0.225]),\n",
    "    ])\n",
    "\n",
    "    \n",
    "    return model, transform"
   ]
  },
  {
   "cell_type": "markdown",
   "id": "11b24c22",
   "metadata": {},
   "source": [
    "## App.py"
   ]
  },
  {
   "cell_type": "code",
   "execution_count": 11,
   "id": "cbbef9f8",
   "metadata": {},
   "outputs": [
    {
     "name": "stdout",
     "output_type": "stream",
     "text": [
      "Overwriting app.py\n"
     ]
    }
   ],
   "source": [
    "%%writefile app.py\n",
    "\n",
    "import gradio as gr\n",
    "import os\n",
    "import torch\n",
    "\n",
    "import model\n",
    "\n",
    "from timeit import default_timer as timer\n",
    "from typing import Tuple, Dict\n",
    "\n",
    "class_names=['RG01 RX-78-2 Gundam', \"RG02 MS-06S Char's Zaku II\", 'RG03 GAT-X-105 Aile Strike Gundam', 'RG04 MS-06F Zaku II', 'RG05 ZGMF-X10A Freedom Gundam', 'RG06 FX-550 Sky Grasper', 'RG07 RX-178 Gundam Mk-II Titans', 'RG08 RX-178 Gundam Mk-II A.E.U.G.', 'RG09 ZGMF-X09A Justice Gundam', 'RG10 MSZ-006 Zeta Gundam', 'RG11 ZGMF-X42S Destiny Gundam', 'RG12 RX-78GP01 Zephyranthes', 'RG13 RX-78GP01fb Full Burnern', 'RG14 ZGMF-X20A Strike Freedom Gundam', 'RG15 GN-001 Gundam Exia', \"RG16 MSM-07S Char's Z'gok\", 'RG17 XXXG-00W0 Wing Gundam Zero EW', 'RG18 GN-0000-GNR-010 OO Raiser', 'RG19 MBF-P02 Gundam Astray Red Frame', 'RG20 XXXG-01W Wing Gundam EW', 'RG21 GNT-0000 OO Qan[T]', 'RG22 MSN-06S Sinanju', 'RG23 Build Strike Gundam Full Package', 'RG24 Gundam Astray Gold Frame Amatsu Mina', 'RG25 RX-0 Unicorn Gundam', \"RG26 MS-06R-2 Johnny Ridden's Zaku II\", 'RG27 RX-0[N] Unicorn Gundam 02 Banshee Norn', 'RG28 OZ-00MS Tallgeese EW', 'RG29 MSN-04 Sazabi', 'RG30 RX-0 Full Armor Unicorn Gundam', 'RG31 XM-X1 Crossbone Gundam X1', 'RG32 RX-93 Nu Gundam', 'RG33 ZGMF-X56S_α Force Impulse Gundam', 'RG34 MSN-02 Zeong', 'RG35 XXXG-01W Wing Gundam', 'RG36 RX-93-υ2 Hi-Nu Gundam', 'RG37 GF13-017NJII God Gundam']\n",
    "\n",
    "device = \"cuda\" if torch.cuda.is_available() else \"cpu\"\n",
    "\n",
    "vit, vit_transform = model.create_vit_model(\"./models/pretrained_vit2.pt\", device, len(class_names))\n",
    "vit=vit.to(device)\n",
    "\n",
    "efficientnet, efficientnet_transform = model.create_efficientnet_model(\"./models/efficentnet_b2_argument.pt\", device, len(class_names))\n",
    "efficientnet=efficientnet.to(device)\n",
    "\n",
    "\n",
    "def predict_func(model, transform, names, device) -> Tuple[Dict, float]:\n",
    "    def inner_func(img):\n",
    "\n",
    "    \t\"\"\"Transforms and performs a prediction on img and returns prediction and time taken.\n",
    "    \t\"\"\"\n",
    "    \t# Start the timer\n",
    "    \tstart_time = timer()\n",
    "    \t\n",
    "    \t# Transform the target image and add a batch dimension\n",
    "    \timg = transform(img).unsqueeze(0).to(device)\n",
    "    \t\n",
    "    \t# Put model into evaluation mode and turn on inference mode\n",
    "    \tmodel.eval()\n",
    "    \twith torch.inference_mode():\n",
    "    \t    # Pass the transformed image through the model and turn the prediction logits into prediction probabilities\n",
    "    \t    pred_probs = torch.softmax(model(img), dim=1)\n",
    "    \t\n",
    "    \t# Create a prediction label and prediction probability dictionary for each prediction class (this is the required format for Gradio's output parameter)\n",
    "    \tpred_labels_and_probs = {names[i]: float(pred_probs[0][i]) for i in range(len(names))}\n",
    "    \t\n",
    "    \t# Calculate the prediction time\n",
    "    \tpred_time = round(timer() - start_time, 5)\n",
    "    \t\n",
    "    \t# Return the prediction dictionary and prediction time \n",
    "    \treturn pred_labels_and_probs, pred_time\n",
    "\n",
    "    return inner_func\n",
    "\n",
    "vit_predict=predict_func(vit, vit_transform, class_names, device)\n",
    "efficientnet_predict=predict_func(efficientnet, efficientnet_transform, class_names, device)\n",
    "\n",
    "\n",
    "def predict(img, model=\"EfficientNet\"):\n",
    "    pf = vit_predict if model == \"ViT\" else efficientnet_predict\n",
    "    \n",
    "    return pf(img)\n",
    "\n",
    "# Gradio app\n",
    "\n",
    "title=\"Gunpla Classifier\"\n",
    "description=\"Which gunpla is this?\"\n",
    "example_list = [[\"./data/playground/\" + example] for example in os.listdir(\"./data/playground/\")]\n",
    "\n",
    "demo = gr.Interface(\n",
    "            fn=predict, \n",
    "            inputs=[\n",
    "                gr.Image(type='pil', label=\"Upload Image\"),\n",
    "                gr.inputs.Dropdown([\"EfficientNet\", \"ViT\"], default=\"EfficientNet\", label=\"Select Model\"),\n",
    "            ],\n",
    "            outputs=[\n",
    "                gr.Label(num_top_classes=3, label=\"Predictions\"),\n",
    "                gr.Number(label=\"Prediction time (s)\"),\n",
    "            ],\n",
    "            examples=example_list,\n",
    "            title=title,\n",
    "            description=description,\n",
    "        )\n",
    "\n",
    "\n",
    "if __name__ == \"__main__\":\n",
    "    demo.launch()"
   ]
  },
  {
   "cell_type": "code",
   "execution_count": 12,
   "id": "ac859792",
   "metadata": {},
   "outputs": [
    {
     "name": "stderr",
     "output_type": "stream",
     "text": [
      "/opt/conda/lib/python3.8/site-packages/gradio/inputs.py:217: UserWarning: Usage of gradio.inputs is deprecated, and will not be supported in the future, please import your component from gradio.components\n",
      "  warnings.warn(\n",
      "/opt/conda/lib/python3.8/site-packages/gradio/deprecation.py:40: UserWarning: `optional` parameter is deprecated, and it has no effect\n",
      "  warnings.warn(value)\n"
     ]
    },
    {
     "name": "stdout",
     "output_type": "stream",
     "text": [
      "Running on local URL:  http://127.0.0.1:7860\n",
      "Running on public URL: https://c83dd364-e482-45f1.gradio.live\n",
      "\n",
      "This share link expires in 72 hours. For free permanent hosting and GPU upgrades (NEW!), check out Spaces: https://huggingface.co/spaces\n"
     ]
    },
    {
     "data": {
      "text/html": [
       "<div><iframe src=\"https://c83dd364-e482-45f1.gradio.live\" width=\"100%\" height=\"500\" allow=\"autoplay; camera; microphone; clipboard-read; clipboard-write;\" frameborder=\"0\" allowfullscreen></iframe></div>"
      ],
      "text/plain": [
       "<IPython.core.display.HTML object>"
      ]
     },
     "metadata": {},
     "output_type": "display_data"
    },
    {
     "data": {
      "text/plain": []
     },
     "execution_count": 12,
     "metadata": {},
     "output_type": "execute_result"
    }
   ],
   "source": [
    "import app\n",
    "import importlib\n",
    "importlib.reload(app)\n",
    "\n",
    "app.demo.launch(share=True)"
   ]
  },
  {
   "cell_type": "markdown",
   "id": "506d6f1c",
   "metadata": {},
   "source": [
    "## requirements.txt"
   ]
  },
  {
   "cell_type": "code",
   "execution_count": 13,
   "id": "aef1340f",
   "metadata": {},
   "outputs": [
    {
     "name": "stdout",
     "output_type": "stream",
     "text": [
      "Overwriting requirements.txt\n"
     ]
    }
   ],
   "source": [
    "%%writefile requirements.txt\n",
    "torch==1.13.0\n",
    "torchvision==0.14.0\n",
    "gradio==3.10.1"
   ]
  },
  {
   "cell_type": "markdown",
   "id": "b6c78540",
   "metadata": {},
   "source": [
    "## Pack the files for deployment"
   ]
  },
  {
   "cell_type": "code",
   "execution_count": 15,
   "id": "55be5ae4",
   "metadata": {},
   "outputs": [
    {
     "name": "stdout",
     "output_type": "stream",
     "text": [
      "Overwriting pack.sh\n"
     ]
    }
   ],
   "source": [
    "%%writefile pack.sh\n",
    "#!/bin/bash\n",
    "\n",
    "tar zcvf gunpla_classifier.tgz app.py model.py dataset.py requirements.txt models/pretrained_vit2.pt models/efficentnet_b2_argument.pt data/playground data/gunpla.tgz"
   ]
  },
  {
   "cell_type": "code",
   "execution_count": 16,
   "id": "abe31c74",
   "metadata": {},
   "outputs": [
    {
     "name": "stdout",
     "output_type": "stream",
     "text": [
      "app.py\n",
      "model.py\n",
      "dataset.py\n",
      "requirements.txt\n",
      "models/pretrained_vit2.pt\n",
      "models/efficentnet_b2_argument.pt\n",
      "data/playground/\n",
      "data/playground/rg01_02.jpg\n",
      "data/playground/rg02_02.jpg\n",
      "data/playground/rg04_02.jpg\n",
      "data/playground/rg03_02.jpg\n",
      "data/gunpla.tgz\n"
     ]
    }
   ],
   "source": [
    "!bash pack.sh"
   ]
  },
  {
   "cell_type": "markdown",
   "id": "728ad117",
   "metadata": {},
   "source": [
    "The file gunpla_classifier.tgz is ready to deploy!"
   ]
  },
  {
   "cell_type": "markdown",
   "id": "41b2eb21",
   "metadata": {},
   "source": [
    "# Upload the app to huggingface\n",
    "\n",
    "The app were already created [here](https://huggingface.co/spaces/4179e1/gunpla_classifier), clone it via\n",
    "```\n",
    "git clone https://huggingface.co/spaces/4179e1/gunpla_classifier\n",
    "```\n",
    "\n",
    "Move the file gunpla_classifier.tgz under gunpla_classifier and decompress it via\n",
    "```\n",
    "tar zxvf gunpla_classifier.tgz\n",
    "```\n",
    "\n",
    "Add the file to git\n",
    "\n",
    "```\n",
    "git add *\n",
    "git lfs track data/gunpla.tgz\n",
    "git lfs track models/efficentnet_b2_argument.pt\n",
    "git lfs track models/pretrained_vit2.pt\n",
    "git commit -a\n",
    "```\n",
    "\n",
    "Upload it to huggingface via\n",
    "\n",
    "```\n",
    "git push\n",
    "```\n",
    "\n",
    "Wait for a few minutes and checkout the results in https://huggingface.co/spaces/4179e1/gunpla_classifier"
   ]
  }
 ],
 "metadata": {
  "kernelspec": {
   "display_name": "Python 3 (ipykernel)",
   "language": "python",
   "name": "python3"
  },
  "language_info": {
   "codemirror_mode": {
    "name": "ipython",
    "version": 3
   },
   "file_extension": ".py",
   "mimetype": "text/x-python",
   "name": "python",
   "nbconvert_exporter": "python",
   "pygments_lexer": "ipython3",
   "version": "3.8.13"
  },
  "toc-autonumbering": true
 },
 "nbformat": 4,
 "nbformat_minor": 5
}
