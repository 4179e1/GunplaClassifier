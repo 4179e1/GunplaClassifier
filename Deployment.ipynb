{
 "cells": [
  {
   "cell_type": "markdown",
   "id": "475e64d4",
   "metadata": {},
   "source": [
    "# Create Dataloader"
   ]
  },
  {
   "cell_type": "code",
   "execution_count": 1,
   "id": "be513119",
   "metadata": {},
   "outputs": [
    {
     "name": "stderr",
     "output_type": "stream",
     "text": [
      "/opt/conda/lib/python3.8/site-packages/tqdm/auto.py:22: TqdmWarning: IProgress not found. Please update jupyter and ipywidgets. See https://ipywidgets.readthedocs.io/en/stable/user_install.html\n",
      "  from .autonotebook import tqdm as notebook_tqdm\n"
     ]
    }
   ],
   "source": [
    "import dataset\n",
    "from torchvision import transforms\n",
    "\n",
    "# Create training transform with TrivialAugment\n",
    "train_transform = transforms.Compose([\n",
    "    dataset.SquarePad(fill=255),\n",
    "    transforms.Resize((224,224)),\n",
    "    transforms.TrivialAugmentWide(num_magnitude_bins=31),\n",
    "    transforms.ToTensor(),\n",
    "    transforms.Normalize(mean=[0.485, 0.456, 0.406], std=[0.229, 0.224, 0.225]),\n",
    "])\n",
    "\n",
    "test_validate_transform = transforms.Compose([\n",
    "    dataset.SquarePad(fill=255),\n",
    "    transforms.Resize((224,224)),\n",
    "    #transforms.TrivialAugmentWide(num_magnitude_bins=31),\n",
    "    transforms.ToTensor(),\n",
    "    transforms.Normalize(mean=[0.485, 0.456, 0.406], std=[0.229, 0.224, 0.225]),\n",
    "])\n",
    "\n",
    "\n",
    "train_dataloader, test_dataloader, validate_dataloader, names = dataset.create_dataloaders(\n",
    "        train_transform=train_transform,\n",
    "        test_transform=test_validate_transform,\n",
    "        validate_transform=test_validate_transform,\n",
    "    )"
   ]
  },
  {
   "cell_type": "code",
   "execution_count": 2,
   "id": "f5954cca",
   "metadata": {},
   "outputs": [
    {
     "name": "stdout",
     "output_type": "stream",
     "text": [
      "['RG01 RX-78-2 Gundam', \"RG02 MS-06S Char's Zaku II\", 'RG03 GAT-X-105 Aile Strike Gundam', 'RG04 MS-06F Zaku II', 'RG05 ZGMF-X10A Freedom Gundam', 'RG06 FX-550 Sky Grasper', 'RG07 RX-178 Gundam Mk-II Titans', 'RG08 RX-178 Gundam Mk-II A.E.U.G.', 'RG09 ZGMF-X09A Justice Gundam', 'RG10 MSZ-006 Zeta Gundam', 'RG11 ZGMF-X42S Destiny Gundam', 'RG12 RX-78GP01 Zephyranthes', 'RG13 RX-78GP01fb Full Burnern', 'RG14 ZGMF-X20A Strike Freedom Gundam', 'RG15 GN-001 Gundam Exia', \"RG16 MSM-07S Char's Z'gok\", 'RG17 XXXG-00W0 Wing Gundam Zero EW', 'RG18 GN-0000-GNR-010 OO Raiser', 'RG19 MBF-P02 Gundam Astray Red Frame', 'RG20 XXXG-01W Wing Gundam EW', 'RG21 GNT-0000 OO Qan[T]', 'RG22 MSN-06S Sinanju', 'RG23 Build Strike Gundam Full Package', 'RG24 Gundam Astray Gold Frame Amatsu Mina', 'RG25 RX-0 Unicorn Gundam', \"RG26 MS-06R-2 Johnny Ridden's Zaku II\", 'RG27 RX-0[N] Unicorn Gundam 02 Banshee Norn', 'RG28 OZ-00MS Tallgeese EW', 'RG29 MSN-04 Sazabi', 'RG30 RX-0 Full Armor Unicorn Gundam', 'RG31 XM-X1 Crossbone Gundam X1', 'RG32 RX-93 Nu Gundam', 'RG33 ZGMF-X56S_α Force Impulse Gundam', 'RG34 MSN-02 Zeong', 'RG35 XXXG-01W Wing Gundam', 'RG36 RX-93-υ2 Hi-Nu Gundam', 'RG37 GF13-017NJII God Gundam']\n"
     ]
    }
   ],
   "source": [
    "print(names)"
   ]
  },
  {
   "cell_type": "markdown",
   "id": "602af147",
   "metadata": {},
   "source": [
    "# Create ViT model\n"
   ]
  },
  {
   "cell_type": "code",
   "execution_count": 3,
   "id": "21b2fc13",
   "metadata": {},
   "outputs": [],
   "source": [
    "import torch\n",
    "import torchvision\n",
    "import dataset\n",
    "\n",
    "from torch import nn\n",
    "from torchvision import transforms\n",
    "\n",
    "def create_vit_model(model_path: str,\n",
    "                     num_classes:int=3, \n",
    "                     seed:int=42):\n",
    "    model = torchvision.models.vit_b_16()\n",
    "    model.heads = nn.Linear(in_features=768, out_features=num_classes) \n",
    "\n",
    "    model.load_state_dict(torch.load(f=model_path))\n",
    "    \n",
    "    transform = transforms.Compose([\n",
    "        dataset.SquarePad(fill=255),\n",
    "        transforms.Resize((224,224)),\n",
    "        transforms.ToTensor(),\n",
    "        transforms.Normalize(mean=[0.485, 0.456, 0.406], std=[0.229, 0.224, 0.225]),\n",
    "    ])\n",
    "\n",
    "    \n",
    "    return model, transform"
   ]
  },
  {
   "cell_type": "code",
   "execution_count": 4,
   "id": "4ef0bf90",
   "metadata": {},
   "outputs": [],
   "source": [
    "vit, transform = create_vit_model(\"./models/pretrained_vit2.pt\", len(names))\n",
    "device = \"cuda\" if torch.cuda.is_available() else \"cpu\"\n",
    "_=vit.to(device)"
   ]
  },
  {
   "cell_type": "markdown",
   "id": "b7811d99",
   "metadata": {},
   "source": [
    "# predict"
   ]
  },
  {
   "cell_type": "code",
   "execution_count": 5,
   "id": "ab2741a3",
   "metadata": {},
   "outputs": [],
   "source": [
    "from timeit import default_timer as timer \n",
    "from typing import Tuple, Dict\n",
    "\n",
    "def predict(model, transform, names, device) -> Tuple[Dict, float]:\n",
    "    def inner_func(img):\n",
    "    \t\"\"\"Transforms and performs a prediction on img and returns prediction and time taken.\n",
    "    \t\"\"\"\n",
    "    \t# Start the timer\n",
    "    \tstart_time = timer()\n",
    "    \t\n",
    "    \t# Transform the target image and add a batch dimension\n",
    "    \timg = transform(img).unsqueeze(0).to(device)\n",
    "    \t\n",
    "    \t# Put model into evaluation mode and turn on inference mode\n",
    "    \tmodel.eval()\n",
    "    \twith torch.inference_mode():\n",
    "    \t    # Pass the transformed image through the model and turn the prediction logits into prediction probabilities\n",
    "    \t    pred_probs = torch.softmax(model(img), dim=1)\n",
    "    \t\n",
    "    \t# Create a prediction label and prediction probability dictionary for each prediction class (this is the required format for Gradio's output parameter)\n",
    "    \tpred_labels_and_probs = {names[i]: float(pred_probs[0][i]) for i in range(len(names))}\n",
    "    \t\n",
    "    \t# Calculate the prediction time\n",
    "    \tpred_time = round(timer() - start_time, 5)\n",
    "    \t\n",
    "    \t# Return the prediction dictionary and prediction time \n",
    "    \treturn pred_labels_and_probs, pred_time\n",
    "\n",
    "    return inner_func"
   ]
  },
  {
   "cell_type": "code",
   "execution_count": 6,
   "id": "bde14d28",
   "metadata": {},
   "outputs": [
    {
     "name": "stdout",
     "output_type": "stream",
     "text": [
      "Prediction label and probability dictionary: \n",
      "{'RG01 RX-78-2 Gundam': 6.559668690897524e-05, \"RG02 MS-06S Char's Zaku II\": 1.2362968845991418e-05, 'RG03 GAT-X-105 Aile Strike Gundam': 0.008920442312955856, 'RG04 MS-06F Zaku II': 8.815762157610152e-06, 'RG05 ZGMF-X10A Freedom Gundam': 0.0004048141126986593, 'RG06 FX-550 Sky Grasper': 0.07279965281486511, 'RG07 RX-178 Gundam Mk-II Titans': 0.0002702291531022638, 'RG08 RX-178 Gundam Mk-II A.E.U.G.': 0.0037341751158237457, 'RG09 ZGMF-X09A Justice Gundam': 0.00011775196617236361, 'RG10 MSZ-006 Zeta Gundam': 0.0006428732885979116, 'RG11 ZGMF-X42S Destiny Gundam': 0.0008331335848197341, 'RG12 RX-78GP01 Zephyranthes': 0.00021331319294404238, 'RG13 RX-78GP01fb Full Burnern': 0.0009430377976968884, 'RG14 ZGMF-X20A Strike Freedom Gundam': 0.00026435250765644014, 'RG15 GN-001 Gundam Exia': 0.0006729885353706777, \"RG16 MSM-07S Char's Z'gok\": 1.2674895515374374e-05, 'RG17 XXXG-00W0 Wing Gundam Zero EW': 0.0007043137447908521, 'RG18 GN-0000-GNR-010 OO Raiser': 0.0019518714398145676, 'RG19 MBF-P02 Gundam Astray Red Frame': 0.00046406080946326256, 'RG20 XXXG-01W Wing Gundam EW': 0.012580998241901398, 'RG21 GNT-0000 OO Qan[T]': 0.004578555002808571, 'RG22 MSN-06S Sinanju': 0.00028295989613980055, 'RG23 Build Strike Gundam Full Package': 0.04238974303007126, 'RG24 Gundam Astray Gold Frame Amatsu Mina': 0.0004559580411296338, 'RG25 RX-0 Unicorn Gundam': 8.279766916530207e-05, \"RG26 MS-06R-2 Johnny Ridden's Zaku II\": 0.00020146284077782184, 'RG27 RX-0[N] Unicorn Gundam 02 Banshee Norn': 0.00023622767184861004, 'RG28 OZ-00MS Tallgeese EW': 0.00018973444821313024, 'RG29 MSN-04 Sazabi': 2.924209911725484e-05, 'RG30 RX-0 Full Armor Unicorn Gundam': 6.160386692499742e-05, 'RG31 XM-X1 Crossbone Gundam X1': 9.845379099715501e-05, 'RG32 RX-93 Nu Gundam': 0.0007736040279269218, 'RG33 ZGMF-X56S_α Force Impulse Gundam': 0.163504496216774, 'RG34 MSN-02 Zeong': 0.0008114381926134229, 'RG35 XXXG-01W Wing Gundam': 0.6773144602775574, 'RG36 RX-93-υ2 Hi-Nu Gundam': 0.0012339723762124777, 'RG37 GF13-017NJII God Gundam': 0.002137833507731557}\n",
      "Prediction time: 0.55988 seconds\n",
      "Prediction label and probability dictionary: \n",
      "{'RG01 RX-78-2 Gundam': 3.7513432289415505e-06, \"RG02 MS-06S Char's Zaku II\": 3.559293872967828e-07, 'RG03 GAT-X-105 Aile Strike Gundam': 5.762087766925106e-06, 'RG04 MS-06F Zaku II': 5.357945838113665e-07, 'RG05 ZGMF-X10A Freedom Gundam': 0.0011064332211390138, 'RG06 FX-550 Sky Grasper': 2.966320380437537e-06, 'RG07 RX-178 Gundam Mk-II Titans': 1.0316328371118288e-05, 'RG08 RX-178 Gundam Mk-II A.E.U.G.': 1.43620309245307e-05, 'RG09 ZGMF-X09A Justice Gundam': 4.4732372771250084e-05, 'RG10 MSZ-006 Zeta Gundam': 1.5157209418248385e-05, 'RG11 ZGMF-X42S Destiny Gundam': 0.0008401909726671875, 'RG12 RX-78GP01 Zephyranthes': 1.6283658624161035e-05, 'RG13 RX-78GP01fb Full Burnern': 8.388239803025499e-05, 'RG14 ZGMF-X20A Strike Freedom Gundam': 1.5219320630421862e-05, 'RG15 GN-001 Gundam Exia': 0.0005134192761033773, \"RG16 MSM-07S Char's Z'gok\": 1.827262713050004e-05, 'RG17 XXXG-00W0 Wing Gundam Zero EW': 0.9948304295539856, 'RG18 GN-0000-GNR-010 OO Raiser': 5.49524775124155e-05, 'RG19 MBF-P02 Gundam Astray Red Frame': 2.183645761988373e-07, 'RG20 XXXG-01W Wing Gundam EW': 3.2288509828504175e-05, 'RG21 GNT-0000 OO Qan[T]': 0.00028452897095121443, 'RG22 MSN-06S Sinanju': 0.00021860306151211262, 'RG23 Build Strike Gundam Full Package': 0.000534852733835578, 'RG24 Gundam Astray Gold Frame Amatsu Mina': 1.6288397091557272e-05, 'RG25 RX-0 Unicorn Gundam': 5.620116280624643e-05, \"RG26 MS-06R-2 Johnny Ridden's Zaku II\": 2.0936797682225006e-06, 'RG27 RX-0[N] Unicorn Gundam 02 Banshee Norn': 0.00011726393859134987, 'RG28 OZ-00MS Tallgeese EW': 2.9642051231348887e-06, 'RG29 MSN-04 Sazabi': 4.2030587792396545e-05, 'RG30 RX-0 Full Armor Unicorn Gundam': 7.418817858706461e-06, 'RG31 XM-X1 Crossbone Gundam X1': 0.0008916836814023554, 'RG32 RX-93 Nu Gundam': 1.6868309103301726e-05, 'RG33 ZGMF-X56S_α Force Impulse Gundam': 0.00010872397251660004, 'RG34 MSN-02 Zeong': 5.934802516094351e-07, 'RG35 XXXG-01W Wing Gundam': 3.938649024348706e-05, 'RG36 RX-93-υ2 Hi-Nu Gundam': 1.3830937177772284e-06, 'RG37 GF13-017NJII God Gundam': 4.967085988027975e-05}\n",
      "Prediction time: 0.01993 seconds\n",
      "Prediction label and probability dictionary: \n",
      "{'RG01 RX-78-2 Gundam': 0.044301461428403854, \"RG02 MS-06S Char's Zaku II\": 0.030012289062142372, 'RG03 GAT-X-105 Aile Strike Gundam': 0.001522005070000887, 'RG04 MS-06F Zaku II': 0.01766599342226982, 'RG05 ZGMF-X10A Freedom Gundam': 0.026261674240231514, 'RG06 FX-550 Sky Grasper': 0.0703795999288559, 'RG07 RX-178 Gundam Mk-II Titans': 0.06844596564769745, 'RG08 RX-178 Gundam Mk-II A.E.U.G.': 0.08554044365882874, 'RG09 ZGMF-X09A Justice Gundam': 0.015755975618958473, 'RG10 MSZ-006 Zeta Gundam': 0.1347583532333374, 'RG11 ZGMF-X42S Destiny Gundam': 0.009969048202037811, 'RG12 RX-78GP01 Zephyranthes': 0.013297716155648232, 'RG13 RX-78GP01fb Full Burnern': 0.028267130255699158, 'RG14 ZGMF-X20A Strike Freedom Gundam': 0.0023067861329764128, 'RG15 GN-001 Gundam Exia': 0.016360489651560783, \"RG16 MSM-07S Char's Z'gok\": 0.003729616990312934, 'RG17 XXXG-00W0 Wing Gundam Zero EW': 0.008247120305895805, 'RG18 GN-0000-GNR-010 OO Raiser': 0.13830077648162842, 'RG19 MBF-P02 Gundam Astray Red Frame': 0.0013358226278796792, 'RG20 XXXG-01W Wing Gundam EW': 0.02220648154616356, 'RG21 GNT-0000 OO Qan[T]': 0.0203868355602026, 'RG22 MSN-06S Sinanju': 0.0006723282276652753, 'RG23 Build Strike Gundam Full Package': 0.024070044979453087, 'RG24 Gundam Astray Gold Frame Amatsu Mina': 0.005419979337602854, 'RG25 RX-0 Unicorn Gundam': 0.0007289836066775024, \"RG26 MS-06R-2 Johnny Ridden's Zaku II\": 0.01992214471101761, 'RG27 RX-0[N] Unicorn Gundam 02 Banshee Norn': 0.0021204205695539713, 'RG28 OZ-00MS Tallgeese EW': 0.04431939497590065, 'RG29 MSN-04 Sazabi': 0.00567967863753438, 'RG30 RX-0 Full Armor Unicorn Gundam': 0.018270546570420265, 'RG31 XM-X1 Crossbone Gundam X1': 0.002456989139318466, 'RG32 RX-93 Nu Gundam': 0.06798819452524185, 'RG33 ZGMF-X56S_α Force Impulse Gundam': 0.024167301133275032, 'RG34 MSN-02 Zeong': 0.00036265311064198613, 'RG35 XXXG-01W Wing Gundam': 0.014936675317585468, 'RG36 RX-93-υ2 Hi-Nu Gundam': 0.008541302755475044, 'RG37 GF13-017NJII God Gundam': 0.0012918333522975445}\n",
      "Prediction time: 0.02751 seconds\n"
     ]
    }
   ],
   "source": [
    "import data_utils\n",
    "from PIL import Image\n",
    "\n",
    "imgs=data_utils.get_random_images('./data/gunpla', k=3)\n",
    "\n",
    "vit_predict = predict(vit, test_validate_transform, names, device)\n",
    "\n",
    "for p in imgs:\n",
    "    img = Image.open(p)\n",
    "    pred_dict, pred_time = vit_predict(img)\n",
    "    print(f\"Prediction label and probability dictionary: \\n{pred_dict}\")\n",
    "    print(f\"Prediction time: {pred_time} seconds\")"
   ]
  },
  {
   "cell_type": "markdown",
   "id": "2e83a765",
   "metadata": {},
   "source": [
    "# Gradio"
   ]
  },
  {
   "cell_type": "code",
   "execution_count": 7,
   "id": "eb809fee",
   "metadata": {},
   "outputs": [
    {
     "name": "stdout",
     "output_type": "stream",
     "text": [
      "Gradio version: 3.10.1\n"
     ]
    }
   ],
   "source": [
    "# Import/install Gradio \n",
    "try:\n",
    "    import gradio as gr\n",
    "except: \n",
    "    !pip -q install gradio\n",
    "    import gradio as gr\n",
    "    \n",
    "print(f\"Gradio version: {gr.__version__}\")"
   ]
  },
  {
   "cell_type": "code",
   "execution_count": 8,
   "id": "e72c0023",
   "metadata": {},
   "outputs": [
    {
     "data": {
      "text/plain": [
       "[['./data/playground/rg01_02.jpg'],\n",
       " ['./data/playground/rg02_02.jpg'],\n",
       " ['./data/playground/rg04_02.jpg'],\n",
       " ['./data/playground/rg03_02.jpg']]"
      ]
     },
     "execution_count": 8,
     "metadata": {},
     "output_type": "execute_result"
    }
   ],
   "source": [
    "import os\n",
    "\n",
    "# Get example filepaths in a list of lists\n",
    "example_list = [[\"./data/playground/\" + example] for example in os.listdir(\"./data/playground/\")]\n",
    "example_list"
   ]
  },
  {
   "cell_type": "code",
   "execution_count": 9,
   "id": "82f598f2",
   "metadata": {},
   "outputs": [],
   "source": [
    "import gradio as gr\n",
    "\n",
    "# Create title, description and article strings\n",
    "title = \"Gunpla classifier\"\n",
    "description = \"Which gunpla is this?\"\n",
    "article = \"Created at [09. PyTorch Model Deployment](https://www.learnpytorch.io/09_pytorch_model_deployment/).\"\n",
    "\n",
    "# Create the Gradio demo\n",
    "demo = gr.Interface(fn=vit_predict, # mapping function from input to output\n",
    "                    inputs=gr.Image(type=\"pil\"), # what are the inputs?\n",
    "                    outputs=[gr.Label(num_top_classes=len(names), label=\"Predictions\"), # what are the outputs?\n",
    "                             gr.Number(label=\"Prediction time (s)\")], # our fn has two outputs, therefore we have two outputs\n",
    "                    examples=example_list, \n",
    "                    title=title,\n",
    "                    description=description,\n",
    "                    article=article)\n",
    "\n",
    "# Launch the demo!\n",
    "#demo.launch(debug=True, share=True)"
   ]
  },
  {
   "cell_type": "markdown",
   "id": "b807136c",
   "metadata": {},
   "source": [
    "# Model.py"
   ]
  },
  {
   "cell_type": "code",
   "execution_count": 10,
   "id": "cac3d4c2",
   "metadata": {},
   "outputs": [
    {
     "name": "stdout",
     "output_type": "stream",
     "text": [
      "Overwriting model.py\n"
     ]
    }
   ],
   "source": [
    "%%writefile model.py\n",
    "\n",
    "import torch\n",
    "import torchvision\n",
    "import dataset\n",
    "\n",
    "from torch import nn\n",
    "from torchvision import transforms\n",
    "\n",
    "def create_vit_model(model_path: str,\n",
    "                     device: str,\n",
    "                     num_classes:int=3\n",
    "                    ):\n",
    "    model = torchvision.models.vit_b_16()\n",
    "    model.heads = nn.Linear(in_features=768, out_features=num_classes) \n",
    "\n",
    "    model.load_state_dict(torch.load(f=model_path, map_location=device))\n",
    "    \n",
    "    transform = transforms.Compose([\n",
    "        dataset.SquarePad(fill=255),\n",
    "        transforms.Resize((224,224)),\n",
    "        transforms.ToTensor(),\n",
    "        transforms.Normalize(mean=[0.485, 0.456, 0.406], std=[0.229, 0.224, 0.225]),\n",
    "    ])\n",
    "\n",
    "    \n",
    "    return model, transform\n",
    "\n",
    "\n",
    "def create_efficientnet_model(model_path: str,\n",
    "                     device: str,\n",
    "                     num_classes:int=3\n",
    "                    ):\n",
    "    model = torchvision.models.efficientnet_b2()\n",
    "    model.classifier = torch.nn.Sequential(\n",
    "        torch.nn.Dropout(p=0.2, inplace=True), \n",
    "        torch.nn.Linear(in_features=1408,         # note: this is different from b0\n",
    "                    out_features=num_classes, # same number of output units as our number of classes\n",
    "                    bias=True))\n",
    "\n",
    "    model.load_state_dict(torch.load(f=model_path, map_location=device))\n",
    "    \n",
    "    transform = transforms.Compose([\n",
    "        dataset.SquarePad(fill=255),\n",
    "        transforms.Resize((224,224)),\n",
    "        transforms.ToTensor(),\n",
    "        transforms.Normalize(mean=[0.485, 0.456, 0.406], std=[0.229, 0.224, 0.225]),\n",
    "    ])\n",
    "\n",
    "    \n",
    "    return model, transform"
   ]
  },
  {
   "cell_type": "markdown",
   "id": "a8076ba0",
   "metadata": {},
   "source": [
    "# App.py"
   ]
  },
  {
   "cell_type": "code",
   "execution_count": 29,
   "id": "a2a1dd31",
   "metadata": {},
   "outputs": [
    {
     "name": "stdout",
     "output_type": "stream",
     "text": [
      "Overwriting app.py\n"
     ]
    }
   ],
   "source": [
    "%%writefile app.py\n",
    "\n",
    "import gradio as gr\n",
    "import os\n",
    "import torch\n",
    "\n",
    "import model\n",
    "\n",
    "from timeit import default_timer as timer\n",
    "from typing import Tuple, Dict\n",
    "\n",
    "class_names=['RG01 RX-78-2 Gundam', \"RG02 MS-06S Char's Zaku II\", 'RG03 GAT-X-105 Aile Strike Gundam', 'RG04 MS-06F Zaku II', 'RG05 ZGMF-X10A Freedom Gundam', 'RG06 FX-550 Sky Grasper', 'RG07 RX-178 Gundam Mk-II Titans', 'RG08 RX-178 Gundam Mk-II A.E.U.G.', 'RG09 ZGMF-X09A Justice Gundam', 'RG10 MSZ-006 Zeta Gundam', 'RG11 ZGMF-X42S Destiny Gundam', 'RG12 RX-78GP01 Zephyranthes', 'RG13 RX-78GP01fb Full Burnern', 'RG14 ZGMF-X20A Strike Freedom Gundam', 'RG15 GN-001 Gundam Exia', \"RG16 MSM-07S Char's Z'gok\", 'RG17 XXXG-00W0 Wing Gundam Zero EW', 'RG18 GN-0000-GNR-010 OO Raiser', 'RG19 MBF-P02 Gundam Astray Red Frame', 'RG20 XXXG-01W Wing Gundam EW', 'RG21 GNT-0000 OO Qan[T]', 'RG22 MSN-06S Sinanju', 'RG23 Build Strike Gundam Full Package', 'RG24 Gundam Astray Gold Frame Amatsu Mina', 'RG25 RX-0 Unicorn Gundam', \"RG26 MS-06R-2 Johnny Ridden's Zaku II\", 'RG27 RX-0[N] Unicorn Gundam 02 Banshee Norn', 'RG28 OZ-00MS Tallgeese EW', 'RG29 MSN-04 Sazabi', 'RG30 RX-0 Full Armor Unicorn Gundam', 'RG31 XM-X1 Crossbone Gundam X1', 'RG32 RX-93 Nu Gundam', 'RG33 ZGMF-X56S_α Force Impulse Gundam', 'RG34 MSN-02 Zeong', 'RG35 XXXG-01W Wing Gundam', 'RG36 RX-93-υ2 Hi-Nu Gundam', 'RG37 GF13-017NJII God Gundam']\n",
    "\n",
    "device = \"cuda\" if torch.cuda.is_available() else \"cpu\"\n",
    "\n",
    "vit, vit_transform = model.create_vit_model(\"./models/pretrained_vit2.pt\", device, len(class_names))\n",
    "vit=vit.to(device)\n",
    "\n",
    "efficientnet, efficientnet_transform = model.create_efficientnet_model(\"./models/efficentnet_b2_argument.pt\", device, len(class_names))\n",
    "efficientnet=efficientnet.to(device)\n",
    "\n",
    "\n",
    "def predict_func(model, transform, names, device) -> Tuple[Dict, float]:\n",
    "    def inner_func(img):\n",
    "\n",
    "    \t\"\"\"Transforms and performs a prediction on img and returns prediction and time taken.\n",
    "    \t\"\"\"\n",
    "    \t# Start the timer\n",
    "    \tstart_time = timer()\n",
    "    \t\n",
    "    \t# Transform the target image and add a batch dimension\n",
    "    \timg = transform(img).unsqueeze(0).to(device)\n",
    "    \t\n",
    "    \t# Put model into evaluation mode and turn on inference mode\n",
    "    \tmodel.eval()\n",
    "    \twith torch.inference_mode():\n",
    "    \t    # Pass the transformed image through the model and turn the prediction logits into prediction probabilities\n",
    "    \t    pred_probs = torch.softmax(model(img), dim=1)\n",
    "    \t\n",
    "    \t# Create a prediction label and prediction probability dictionary for each prediction class (this is the required format for Gradio's output parameter)\n",
    "    \tpred_labels_and_probs = {names[i]: float(pred_probs[0][i]) for i in range(len(names))}\n",
    "    \t\n",
    "    \t# Calculate the prediction time\n",
    "    \tpred_time = round(timer() - start_time, 5)\n",
    "    \t\n",
    "    \t# Return the prediction dictionary and prediction time \n",
    "    \treturn pred_labels_and_probs, pred_time\n",
    "\n",
    "    return inner_func\n",
    "\n",
    "vit_predict=predict_func(vit, vit_transform, class_names, device)\n",
    "efficientnet_predict=predict_func(efficientnet, efficientnet_transform, class_names, device)\n",
    "\n",
    "\n",
    "def predict(img, model=\"EfficientNet\"):\n",
    "    pf = vit_predict if model == \"ViT\" else efficientnet_predict\n",
    "    \n",
    "    return pf(img)\n",
    "\n",
    "# Gradio app\n",
    "\n",
    "title=\"Gunpla Classifier\"\n",
    "description=\"Which gunpla is this?\"\n",
    "example_list = [[\"./data/playground/\" + example] for example in os.listdir(\"./data/playground/\")]\n",
    "\n",
    "demo = gr.Interface(\n",
    "            fn=predict, \n",
    "            inputs=[\n",
    "                gr.Image(type='pil', label=\"Upload Image\"),\n",
    "                gr.inputs.Dropdown([\"EfficientNet\", \"ViT\"], default=\"EfficientNet\", label=\"Select Model\"),\n",
    "            ],\n",
    "            outputs=[\n",
    "                gr.Label(num_top_classes=3, label=\"Predictions\"),\n",
    "                gr.Number(label=\"Prediction time (s)\"),\n",
    "            ],\n",
    "            examples=example_list,\n",
    "            title=title,\n",
    "            description=description,\n",
    "        )\n",
    "\n",
    "\n",
    "if __name__ == \"__main__\":\n",
    "    demo.launch()"
   ]
  },
  {
   "cell_type": "code",
   "execution_count": 30,
   "id": "7d2ed09d",
   "metadata": {},
   "outputs": [
    {
     "name": "stderr",
     "output_type": "stream",
     "text": [
      "/opt/conda/lib/python3.8/site-packages/gradio/inputs.py:216: UserWarning: Usage of gradio.inputs is deprecated, and will not be supported in the future, please import your component from gradio.components\n",
      "  warnings.warn(\n",
      "/opt/conda/lib/python3.8/site-packages/gradio/deprecation.py:40: UserWarning: `optional` parameter is deprecated, and it has no effect\n",
      "  warnings.warn(value)\n"
     ]
    },
    {
     "name": "stdout",
     "output_type": "stream",
     "text": [
      "\n",
      "Thanks for being a Gradio user! If you have questions or feedback, please join our Discord server and chat with us: https://discord.gg/feTf9x3ZSB\n",
      "Running on local URL:  http://127.0.0.1:7866\n",
      "Running on public URL: https://103c40e01aef52da.gradio.app\n",
      "\n",
      "This share link expires in 72 hours. For free permanent hosting and GPU upgrades (NEW!), check out Spaces: https://huggingface.co/spaces\n"
     ]
    },
    {
     "data": {
      "text/html": [
       "<div><iframe src=\"https://103c40e01aef52da.gradio.app\" width=\"100%\" height=\"500\" allow=\"autoplay; camera; microphone; clipboard-read; clipboard-write;\" frameborder=\"0\" allowfullscreen></iframe></div>"
      ],
      "text/plain": [
       "<IPython.core.display.HTML object>"
      ]
     },
     "metadata": {},
     "output_type": "display_data"
    },
    {
     "data": {
      "text/plain": []
     },
     "execution_count": 30,
     "metadata": {},
     "output_type": "execute_result"
    }
   ],
   "source": [
    "import app\n",
    "import importlib\n",
    "importlib.reload(app)\n",
    "\n",
    "app.demo.launch(share=True)"
   ]
  },
  {
   "cell_type": "markdown",
   "id": "c012cead",
   "metadata": {},
   "source": [
    "# requirements.txt"
   ]
  },
  {
   "cell_type": "code",
   "execution_count": null,
   "id": "358d7d99",
   "metadata": {},
   "outputs": [],
   "source": [
    "%%writefile requirements.txt\n",
    "torch==1.13.0\n",
    "torchvision==0.14.0\n",
    "gradio==3.10.1"
   ]
  },
  {
   "cell_type": "code",
   "execution_count": null,
   "id": "0931c766",
   "metadata": {},
   "outputs": [],
   "source": []
  }
 ],
 "metadata": {
  "kernelspec": {
   "display_name": "Python 3 (ipykernel)",
   "language": "python",
   "name": "python3"
  },
  "language_info": {
   "codemirror_mode": {
    "name": "ipython",
    "version": 3
   },
   "file_extension": ".py",
   "mimetype": "text/x-python",
   "name": "python",
   "nbconvert_exporter": "python",
   "pygments_lexer": "ipython3",
   "version": "3.8.13"
  }
 },
 "nbformat": 4,
 "nbformat_minor": 5
}
